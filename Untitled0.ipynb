{
  "nbformat": 4,
  "nbformat_minor": 0,
  "metadata": {
    "colab": {
      "name": "Untitled0.ipynb",
      "provenance": [],
      "collapsed_sections": [],
      "authorship_tag": "ABX9TyMHbBqXXMdhTZmWcEVO9FC+",
      "include_colab_link": true
    },
    "kernelspec": {
      "name": "python3",
      "display_name": "Python 3"
    },
    "language_info": {
      "name": "python"
    }
  },
  "cells": [
    {
      "cell_type": "markdown",
      "metadata": {
        "id": "view-in-github",
        "colab_type": "text"
      },
      "source": [
        "<a href=\"https://colab.research.google.com/github/Elj33/mysight/blob/main/Untitled0.ipynb\" target=\"_parent\"><img src=\"https://colab.research.google.com/assets/colab-badge.svg\" alt=\"Open In Colab\"/></a>"
      ]
    },
    {
      "cell_type": "code",
      "source": [
        "import numpy as np"
      ],
      "metadata": {
        "id": "xEJhZksdVhq7"
      },
      "execution_count": 2,
      "outputs": []
    },
    {
      "cell_type": "code",
      "source": [
        "data = [[1, 2, 3], [4, 5, 6], [7, 8, 9]]\n",
        "\n",
        "for i in range(len(data)):\n",
        "  for j in range(len(data[0])):\n",
        "    data[i][j] *= 2\n",
        "\n"
      ],
      "metadata": {
        "id": "2xdcNTvkVkJL"
      },
      "execution_count": null,
      "outputs": []
    },
    {
      "cell_type": "code",
      "source": [
        "import numpy as np"
      ],
      "metadata": {
        "id": "4wlrZvGeY3Mg"
      },
      "execution_count": 3,
      "outputs": []
    },
    {
      "cell_type": "code",
      "source": [
        "a = np.array([1,2,3,4,5,6,7])\n",
        "print(type(a))"
      ],
      "metadata": {
        "colab": {
          "base_uri": "https://localhost:8080/"
        },
        "id": "PPj0IJ7XaBxB",
        "outputId": "76dbd6eb-1f5d-4500-f6b1-24717bd9e6f3"
      },
      "execution_count": 10,
      "outputs": [
        {
          "output_type": "stream",
          "name": "stdout",
          "text": [
            "<class 'numpy.ndarray'>\n"
          ]
        }
      ]
    },
    {
      "cell_type": "markdown",
      "source": [
        "**NumPy 산술 연산**"
      ],
      "metadata": {
        "id": "d0y4KPH2blt7"
      }
    },
    {
      "cell_type": "code",
      "source": [
        "data = [[1, 2, 3], [4, 5, 6], [7, 8, 9]]\n",
        "\n",
        "for i in data:\n",
        "  for j in i:\n",
        "    j = j*2\n",
        "\n",
        "data"
      ],
      "metadata": {
        "colab": {
          "base_uri": "https://localhost:8080/"
        },
        "id": "dyDNKyPTahcL",
        "outputId": "e86e2610-3589-47f2-d033-ef0f8bba5aeb"
      },
      "execution_count": 17,
      "outputs": [
        {
          "output_type": "execute_result",
          "data": {
            "text/plain": [
              "[[1, 2, 3], [4, 5, 6], [7, 8, 9]]"
            ]
          },
          "metadata": {},
          "execution_count": 17
        }
      ]
    },
    {
      "cell_type": "code",
      "source": [
        "data = [[1, 2, 3], [4, 5, 6], [7, 8, 9]]\n",
        "dat\n",
        "\n",
        "# 행렬과 스칼라의 곱\n",
        "for i in range(len(data)):\n",
        "  for j in range(len(data[0])):\n",
        "    data[i][j] *= 2\n",
        "\n",
        "# 행렬끼리 덧셈"
      ],
      "metadata": {
        "colab": {
          "base_uri": "https://localhost:8080/"
        },
        "id": "N3ASe6I7c1VM",
        "outputId": "a977ad46-646e-49e4-c4e5-05cdc743a826"
      },
      "execution_count": 19,
      "outputs": [
        {
          "output_type": "execute_result",
          "data": {
            "text/plain": [
              "[[2, 4, 6], [8, 10, 12], [14, 16, 18]]"
            ]
          },
          "metadata": {},
          "execution_count": 19
        }
      ]
    }
  ]
}